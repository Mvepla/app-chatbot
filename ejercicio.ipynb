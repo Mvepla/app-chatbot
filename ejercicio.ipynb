{
 "cells": [
  {
   "cell_type": "code",
   "execution_count": 3,
   "metadata": {},
   "outputs": [],
   "source": [
    "import replicate\n",
    "import os"
   ]
  },
  {
   "cell_type": "code",
   "execution_count": 6,
   "metadata": {},
   "outputs": [],
   "source": [
    "# Crear un API token en Replicate para nuestro modelo, y asignarlo a una variable de entorno:\n",
    "\n",
    "os.environ['REPLICATE_API_TOKEN'] = \"r8_6aCd836sfdCEdrvDksZQWLXij45GAKL2Mrb62\"\n",
    "api = replicate.Client(api_token=os.environ[\"REPLICATE_API_TOKEN\"])"
   ]
  },
  {
   "cell_type": "code",
   "execution_count": 9,
   "metadata": {},
   "outputs": [
    {
     "name": "stdout",
     "output_type": "stream",
     "text": [
      "['https://replicate.delivery/pbxt/3nnj1AshHe03AyyJu5agCh4UfifzZVkgaYlfJLdlyziV1h3HB/out-0.png']\n"
     ]
    }
   ],
   "source": [
    "output = replicate.run(\n",
    "  \"stability-ai/stable-diffusion:ac732df83cea7fff18b8472768c88ad041fa750ff7682a21affe81863cbe77e4\",\n",
    "  input={\n",
    "    \"width\": 768,\n",
    "    \"height\": 768,\n",
    "    \"prompt\": \"shark reading a book\",\n",
    "    \"scheduler\": \"K_EULER\",\n",
    "    \"num_outputs\": 1,\n",
    "    \"guidance_scale\": 7.5,\n",
    "    \"num_inference_steps\": 50\n",
    "  }\n",
    ")\n",
    "print(output)"
   ]
  }
 ],
 "metadata": {
  "kernelspec": {
   "display_name": "deepln_env",
   "language": "python",
   "name": "python3"
  },
  "language_info": {
   "codemirror_mode": {
    "name": "ipython",
    "version": 3
   },
   "file_extension": ".py",
   "mimetype": "text/x-python",
   "name": "python",
   "nbconvert_exporter": "python",
   "pygments_lexer": "ipython3",
   "version": "3.9.18"
  }
 },
 "nbformat": 4,
 "nbformat_minor": 2
}
